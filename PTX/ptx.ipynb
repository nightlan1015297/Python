{
 "cells": [
  {
   "cell_type": "code",
   "execution_count": 1,
   "metadata": {},
   "outputs": [],
   "source": [
    "from hashlib import sha1\n",
    "import hmac\n",
    "import time\n",
    "import base64\n",
    "import requests\n",
    "from pprint import pprint\n",
    "from wsgiref.handlers import format_date_time"
   ]
  },
  {
   "cell_type": "code",
   "execution_count": 2,
   "metadata": {},
   "outputs": [
    {
     "ename": "SyntaxError",
     "evalue": "invalid syntax (<ipython-input-2-4e639715512e>, line 2)",
     "output_type": "error",
     "traceback": [
      "\u001b[1;36m  File \u001b[1;32m\"<ipython-input-2-4e639715512e>\"\u001b[1;36m, line \u001b[1;32m2\u001b[0m\n\u001b[1;33m    app_id =\u001b[0m\n\u001b[1;37m             ^\u001b[0m\n\u001b[1;31mSyntaxError\u001b[0m\u001b[1;31m:\u001b[0m invalid syntax\n"
     ]
    }
   ],
   "source": [
    "#initilize\n",
    "app_id = \n",
    "app_ky=\n",
    "def auth_str (app_id , app_ky):\n",
    "    Time = format_date_time(time.time())\n",
    "    hashed =  hmac.new(app_ky.encode('utf8'), ('x-date: ' + xdate).encode('utf8'), sha1)\n",
    "    signature = base64.b64encode(hashed.digest()).decode()\n",
    "\n",
    "    authorization = 'hmac username=\"' + app_id + '\", ' + \\\n",
    "                        'algorithm=\"hmac-sha1\", ' + \\\n",
    "                        'headers=\"x-date\", ' + \\\n",
    "                        'signature=\"' + signature + '\"'\n",
    "    return {\n",
    "            'Authorization': authorization,\n",
    "            'x-date': format_date_time(mktime(datetime.now().timetuple())),\n",
    "            'Accept - Encoding': 'gzip'\n",
    "        }\n"
   ]
  },
  {
   "cell_type": "code",
   "execution_count": null,
   "metadata": {},
   "outputs": [],
   "source": []
  }
 ],
 "metadata": {
  "kernelspec": {
   "display_name": "Python 3",
   "language": "python",
   "name": "python3"
  },
  "language_info": {
   "codemirror_mode": {
    "name": "ipython",
    "version": 3
   },
   "file_extension": ".py",
   "mimetype": "text/x-python",
   "name": "python",
   "nbconvert_exporter": "python",
   "pygments_lexer": "ipython3",
   "version": "3.7.1"
  }
 },
 "nbformat": 4,
 "nbformat_minor": 2
}
