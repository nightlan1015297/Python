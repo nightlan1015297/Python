{
 "cells": [
  {
   "cell_type": "code",
   "execution_count": 4,
   "metadata": {},
   "outputs": [
    {
     "name": "stdout",
     "output_type": "stream",
     "text": [
      "[{\"StationID\":\"O7\",\"LineNO\":\"O\",\"LineID\":\"O\",\"LineName\":{\"Zh_tw\":\"橘線\",\"En\":\"Orange Line\"},\"StationName\":{\"Zh_tw\":\"文化中心\",\"En\":\"Cultural Center\"},\"TripHeadSign\":\"往大寮\",\"DestinationStaionID\":\"OT1\",\"DestinationStationName\":{\"Zh_tw\":\"大寮\",\"En\":\"Daliao\"},\"EstimateTime\":0,\"SrcUpdateTime\":\"2019-12-28T21:09:50+08:00\",\"UpdateTime\":\"2019-12-28T21:10:00+08:00\"},{\"StationID\":\"O7\",\"LineNO\":\"O\",\"LineID\":\"O\",\"LineName\":{\"Zh_tw\":\"橘線\",\"En\":\"Orange Line\"},\"StationName\":{\"Zh_tw\":\"文化中心\",\"En\":\"Cultural Center\"},\"TripHeadSign\":\"往西子灣\",\"DestinationStaionID\":\"O1\",\"DestinationStationName\":{\"Zh_tw\":\"西子灣\",\"En\":\"Sizihwan\"},\"EstimateTime\":1,\"SrcUpdateTime\":\"2019-12-28T21:09:50+08:00\",\"UpdateTime\":\"2019-12-28T21:10:00+08:00\"}]\n",
      "[文化中心站] 往大寮 班車預計再 0 分鐘到達\n",
      "[文化中心站] 往西子灣 班車預計再 1 分鐘到達\n"
     ]
    }
   ],
   "source": [
    "from hashlib import sha1\n",
    "import hmac\n",
    "from wsgiref.handlers import format_date_time\n",
    "from datetime import datetime\n",
    "from time import mktime\n",
    "import base64\n",
    "import requests\n",
    "from pprint import pprint\n",
    "import json\n",
    "\n",
    "class Auth():\n",
    "\n",
    "    def __init__(self, app_id, app_key):\n",
    "        self.app_id = app_id\n",
    "        self.app_key = app_key\n",
    "\n",
    "    def get_auth_header(self):\n",
    "        xdate = format_date_time(mktime(datetime.now().timetuple()))\n",
    "        hashed = hmac.new(self.app_key.encode('utf8'), ('x-date: ' + xdate).encode('utf8'), sha1)\n",
    "        signature = base64.b64encode(hashed.digest()).decode()\n",
    "\n",
    "        authorization = 'hmac username=\"' + self.app_id + '\", ' + \\\n",
    "                        'algorithm=\"hmac-sha1\", ' + \\\n",
    "                        'headers=\"x-date\", ' + \\\n",
    "                        'signature=\"' + signature + '\"'\n",
    "        return {\n",
    "            'Authorization': authorization,\n",
    "            'x-date': format_date_time(mktime(datetime.now().timetuple())),\n",
    "            'Accept - Encoding': 'gzip'\n",
    "        }\n",
    "\n",
    "\n",
    "app_id = '82c30ff2722a4cc5812b36a55b5eb1be'\n",
    "app_key = 'Xh8N8ldq34_Fl-9w6j06r3dq1H4'\n",
    "\n",
    "if __name__ == '__main__':\n",
    "    a = Auth(app_id, app_key)\n",
    "    url = \"https://ptx.transportdata.tw/MOTC/v2/Rail/Metro/LiveBoard/KRTC?$filter=StationID%20eq%20'O7'&$top=30&$format=JSON\"\n",
    "    response = requests.get(url, headers= a.get_auth_header())\n",
    "    print(response.text)\n",
    "    jsondata = json.loads(response.text)\n",
    "    for data in jsondata:\n",
    "        print('['+data['StationName']['Zh_tw']+'站]', data['TripHeadSign'], '班車預計再', data['EstimateTime'], '分鐘到達')"
   ]
  },
  {
   "cell_type": "code",
   "execution_count": null,
   "metadata": {},
   "outputs": [],
   "source": []
  }
 ],
 "metadata": {
  "kernelspec": {
   "display_name": "Python 3",
   "language": "python",
   "name": "python3"
  },
  "language_info": {
   "codemirror_mode": {
    "name": "ipython",
    "version": 3
   },
   "file_extension": ".py",
   "mimetype": "text/x-python",
   "name": "python",
   "nbconvert_exporter": "python",
   "pygments_lexer": "ipython3",
   "version": "3.7.1"
  }
 },
 "nbformat": 4,
 "nbformat_minor": 2
}
