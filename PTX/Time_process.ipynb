{
 "cells": [
  {
   "cell_type": "code",
   "execution_count": 24,
   "metadata": {},
   "outputs": [],
   "source": [
    "from datetime import datetime\n",
    "from wsgiref.handlers import format_date_time\n",
    "from time import mktime\n",
    "import time"
   ]
  },
  {
   "cell_type": "code",
   "execution_count": 18,
   "metadata": {},
   "outputs": [
    {
     "data": {
      "text/plain": [
       "'Fri, 07 Jun 2019 07:33:14 GMT'"
      ]
     },
     "execution_count": 18,
     "metadata": {},
     "output_type": "execute_result"
    }
   ],
   "source": [
    "format_date_time()"
   ]
  },
  {
   "cell_type": "code",
   "execution_count": 22,
   "metadata": {},
   "outputs": [
    {
     "data": {
      "text/plain": [
       "datetime.datetime(2019, 6, 7, 15, 44, 11, 581437)"
      ]
     },
     "execution_count": 22,
     "metadata": {},
     "output_type": "execute_result"
    }
   ],
   "source": [
    "datetime.now()"
   ]
  },
  {
   "cell_type": "code",
   "execution_count": 19,
   "metadata": {},
   "outputs": [
    {
     "data": {
      "text/plain": [
       "time.struct_time(tm_year=2019, tm_mon=6, tm_mday=7, tm_hour=15, tm_min=39, tm_sec=31, tm_wday=4, tm_yday=158, tm_isdst=-1)"
      ]
     },
     "execution_count": 19,
     "metadata": {},
     "output_type": "execute_result"
    }
   ],
   "source": [
    "datetime.now().timetuple()"
   ]
  },
  {
   "cell_type": "code",
   "execution_count": 20,
   "metadata": {},
   "outputs": [
    {
     "data": {
      "text/plain": [
       "1559893244.0"
      ]
     },
     "execution_count": 20,
     "metadata": {},
     "output_type": "execute_result"
    }
   ],
   "source": [
    "mktime(datetime.now().timetuple())"
   ]
  },
  {
   "cell_type": "code",
   "execution_count": 21,
   "metadata": {},
   "outputs": [
    {
     "data": {
      "text/plain": [
       "'Fri, 07 Jun 2019 07:43:55 GMT'"
      ]
     },
     "execution_count": 21,
     "metadata": {},
     "output_type": "execute_result"
    }
   ],
   "source": [
    "format_date_time(mktime(datetime.now().timetuple()))"
   ]
  },
  {
   "cell_type": "code",
   "execution_count": 31,
   "metadata": {},
   "outputs": [
    {
     "name": "stdout",
     "output_type": "stream",
     "text": [
      "1559893564.8718166\n"
     ]
    }
   ],
   "source": [
    "print(time.time())"
   ]
  },
  {
   "cell_type": "code",
   "execution_count": 32,
   "metadata": {},
   "outputs": [
    {
     "data": {
      "text/plain": [
       "1559893565.0"
      ]
     },
     "execution_count": 32,
     "metadata": {},
     "output_type": "execute_result"
    }
   ],
   "source": [
    "mktime(datetime.now().timetuple())"
   ]
  },
  {
   "cell_type": "markdown",
   "metadata": {},
   "source": [
    "# import time\n",
    "\n",
    "* %y 两位数的年份表示（00-99）\n",
    "* %Y 四位数的年份表示（000-9999）\n",
    "* %m 月份（01-12）\n",
    "* %d 月内中的一天（0-31）\n",
    "* %H 24小时制小时数（0-23）\n",
    "* %I 12小时制小时数（01-12）\n",
    "* %M 分钟数（00=59）\n",
    "* %S 秒（00-59）\n",
    "* %a 本地简化星期名称\n",
    "* %A 本地完整星期名称\n",
    "* %b 本地简化的月份名称\n",
    "* %B 本地完整的月份名称\n",
    "* %c 本地相应的日期表示和时间表示\n",
    "* %j 年内的一天（001-366）\n",
    "* %p 本地A.M.或P.M.的等价符\n",
    "* %U 一年中的星期数（00-53）星期天为星期的开始\n",
    "* %w 星期（0-6），星期天为星期的开始\n",
    "* %W 一年中的星期数（00-53）星期一为星期的开始\n",
    "* %x 本地相应的日期表示\n",
    "* %X 本地相应的时间表示\n",
    "* %Z 当前时区的名称\n",
    "* %% %号本身"
   ]
  },
  {
   "cell_type": "code",
   "execution_count": 33,
   "metadata": {},
   "outputs": [],
   "source": [
    "import time"
   ]
  },
  {
   "cell_type": "code",
   "execution_count": 63,
   "metadata": {},
   "outputs": [
    {
     "name": "stdout",
     "output_type": "stream",
     "text": [
      "Fri, 07 Jun 2019 04:24:42 \n",
      "Fri, 07 Jun 2019 08:24:42 GMT\n"
     ]
    }
   ],
   "source": [
    "print( time.strftime(\"%a, %d %b %Y %I:%M:%S \" , time.localtime()))\n",
    "print(format_date_time(mktime(datetime.now().timetuple())))"
   ]
  },
  {
   "cell_type": "code",
   "execution_count": 65,
   "metadata": {},
   "outputs": [
    {
     "name": "stdout",
     "output_type": "stream",
     "text": [
      "Fri, 07 Jun 2019 08:26:16 GMT\n",
      "<class 'str'>\n"
     ]
    }
   ],
   "source": [
    "print(format_date_time(time.time()))\n",
    "a = format_date_time(time.time())\n",
    "print(type(a))"
   ]
  },
  {
   "cell_type": "code",
   "execution_count": 67,
   "metadata": {},
   "outputs": [
    {
     "name": "stdout",
     "output_type": "stream",
     "text": [
      "Pretty printing has been turned ON\n"
     ]
    }
   ],
   "source": []
  },
  {
   "cell_type": "code",
   "execution_count": null,
   "metadata": {},
   "outputs": [],
   "source": []
  }
 ],
 "metadata": {
  "kernelspec": {
   "display_name": "Python 3",
   "language": "python",
   "name": "python3"
  },
  "language_info": {
   "codemirror_mode": {
    "name": "ipython",
    "version": 3
   },
   "file_extension": ".py",
   "mimetype": "text/x-python",
   "name": "python",
   "nbconvert_exporter": "python",
   "pygments_lexer": "ipython3",
   "version": "3.7.1"
  }
 },
 "nbformat": 4,
 "nbformat_minor": 2
}
